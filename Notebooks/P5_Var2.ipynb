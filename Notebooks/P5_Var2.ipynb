{
 "cells": [
  {
   "cell_type": "markdown",
   "metadata": {},
   "source": [
    "### Disclaimer"
   ]
  },
  {
   "cell_type": "markdown",
   "metadata": {},
   "source": [
    "The following notebook was compiled for the course 'Geostatistics' at Ghent University (lecturer-in-charge: Prof. Dr. Ellen Van De Vijver; teaching assistant: Pablo De Weerdt). It consists of notebook snippets created by Michael Pyrcz. The code and markdown (text) snippets were edited specifically for this course, using the 'Jura data set' (Goovaerts, 1997) as example in the practical classes. Some new code snippets are also included to cover topics which were not found in the Geostastpy package demo books.\n",
    "\n",
    "This notebook is for educational purposes.<br> \n",
    "\n",
    "Guidelines for getting started were adapted from the 'Environmental Soil Sensing' course at Ghent University (lecturer-in-charge: Prof. Dr. Philippe De Smedt).<br> \n",
    "\n",
    "The Jura data set was taken from: Goovaerts P., 1997. Geostatistics for Natural Resources Evaluation. Oxford University Press."
   ]
  },
  {
   "cell_type": "markdown",
   "metadata": {},
   "source": [
    "**Don't forget to save a copy on your Google drive before starting**\n",
    "\n",
    "You can also 'mount' your Google Drive in Google colab to directly access your Drive folders (e.g. to access data, previous notebooks etc.)\n",
    "\n",
    "Do not hesitate to contact us for questions or feel free to ask questions during the practical sessions."
   ]
  },
  {
   "cell_type": "markdown",
   "metadata": {},
   "source": [
    "# Geostatistics: Introduction to geostatistical data analysis with Python"
   ]
  },
  {
   "cell_type": "code",
   "execution_count": null,
   "metadata": {},
   "outputs": [],
   "source": [
    "# Import required packages for setup\n",
    "# -------------------------------------------- #\n",
    "\n",
    "import sys\n",
    "import os"
   ]
  },
  {
   "cell_type": "code",
   "execution_count": null,
   "metadata": {},
   "outputs": [],
   "source": [
    "#  Clone the repository and add it to the path\n",
    "if 'google.colab' in sys.modules:\n",
    "    !git clone https://github.com/SENSE-UGent/E_I002454_Geostatistics.git\n",
    "    sys.path.append('/content/E_I002454_Geostatistics') #Default location in Google Colab after cloning\n",
    "else:\n",
    "    # if you are not using Google Colab, change the path to the location of the repository\n",
    "    sys.path.append(r'c:\\Users\\pdweerdt\\Documents\\Repos\\E_I002454_Geostatistics')\n",
    "\n",
    "# Import the setup function\n",
    "from Utils.setup import check_and_install_packages\n",
    "\n",
    "# Read the requirements.txt file\n",
    "if 'google.colab' in sys.modules:\n",
    "    requirements_path = '/content/E_I002454_Geostatistics/Utils/requirements.txt'\n",
    "else:\n",
    "    requirements_path = 'c:/Users/pdweerdt/Documents/Repos/E_I002454_Geostatistics/Utils/requirements.txt'\n",
    "\n",
    "with open(requirements_path) as f:\n",
    "    required_packages = f.read().splitlines()\n",
    "\n",
    "# Check and install packages\n",
    "check_and_install_packages(required_packages)"
   ]
  },
  {
   "cell_type": "markdown",
   "metadata": {},
   "source": [
    "#### Load Required libraries"
   ]
  },
  {
   "cell_type": "code",
   "execution_count": null,
   "metadata": {},
   "outputs": [],
   "source": [
    "import geostatspy\n",
    "import geostatspy.GSLIB as GSLIB                              # GSLIB utilities, visualization and wrapper\n",
    "import geostatspy.geostats as geostats                        # if this raises an error, you might have to check your numba isntallation   \n",
    "print('GeostatsPy version: ' + str(geostatspy.__version__))   # these notebooks were tested with GeostatsPy version: 0.0.72"
   ]
  },
  {
   "cell_type": "markdown",
   "metadata": {},
   "source": [
    "We will also need some standard packages. These should have been installed."
   ]
  },
  {
   "cell_type": "code",
   "execution_count": null,
   "metadata": {},
   "outputs": [],
   "source": [
    "from tqdm import tqdm                                         # suppress the status bar\n",
    "from functools import partialmethod\n",
    "\n",
    "tqdm.__init__ = partialmethod(tqdm.__init__, disable=True)\n",
    "                                   \n",
    "import numpy as np                                            # ndarrays for gridded data\n",
    "                                       \n",
    "import pandas as pd                                           # DataFrames for tabular data\n",
    "\n",
    "import matplotlib.pyplot as plt                               # for plotting\n",
    "\n",
    "from scipy import stats                                       # summary statistics\n",
    "\n",
    "plt.rc('axes', axisbelow=True)                                # plot all grids below the plot elements\n",
    "\n",
    "ignore_warnings = True                                        # ignore warnings?\n",
    "if ignore_warnings == True:                                   \n",
    "    import warnings\n",
    "    warnings.filterwarnings('ignore')\n",
    "\n",
    "from IPython.utils import io                                  # mute output from simulation\n",
    "\n",
    "seed = 42                                                     # random number seed"
   ]
  },
  {
   "cell_type": "code",
   "execution_count": null,
   "metadata": {},
   "outputs": [],
   "source": [
    "from ipywidgets import interactive                      # widgets and interactivity\n",
    "from ipywidgets import widgets                            \n",
    "from ipywidgets import Layout\n",
    "from ipywidgets import Label\n",
    "from ipywidgets import VBox, HBox"
   ]
  },
  {
   "cell_type": "markdown",
   "metadata": {},
   "source": [
    "### Optional libraries"
   ]
  },
  {
   "cell_type": "markdown",
   "metadata": {},
   "source": [
    "These are not required to run the given version of this practical exercise, but might be useful if you want to extend this notebook with more code."
   ]
  },
  {
   "cell_type": "code",
   "execution_count": null,
   "metadata": {},
   "outputs": [],
   "source": [
    "#  import math library\n",
    "import math\n",
    "\n",
    "import cmath"
   ]
  },
  {
   "cell_type": "code",
   "execution_count": null,
   "metadata": {},
   "outputs": [],
   "source": [
    "from scipy.stats import pearsonr                              # Pearson product moment correlation\n",
    "from scipy.stats import spearmanr                             # spearman rank correlation    \n",
    "                                   \n",
    "import seaborn as sns                                         # advanced plotting\n",
    "\n",
    "import matplotlib as mpl                                        \n",
    "\n",
    "from matplotlib.ticker import (MultipleLocator, AutoMinorLocator) # control of axes ticks\n",
    "from matplotlib.colors import ListedColormap \n",
    "import matplotlib.ticker as mtick \n",
    "import matplotlib.gridspec as gridspec"
   ]
  },
  {
   "cell_type": "markdown",
   "metadata": {},
   "source": [
    "### Set the Working Directory\n",
    "\n",
    "Do this to simplify subsequent reads and writes (avoid including the full address each time). "
   ]
  },
  {
   "cell_type": "markdown",
   "metadata": {},
   "source": [
    "##### For use in Google Colab\n",
    "\n",
    "Run the following cell if you automatically want to get the data from the repository and store it on your Google Colab drive"
   ]
  },
  {
   "cell_type": "code",
   "execution_count": null,
   "metadata": {},
   "outputs": [],
   "source": [
    "# change the working directory to the cloned repository\n",
    "\n",
    "os.chdir('E_I002454_Geostatistics')\n",
    "\n",
    "# get the current directory and store it as a variable\n",
    "\n",
    "cd = os.getcwd()\n",
    "print(\"Current Working Directory is \" , cd)"
   ]
  },
  {
   "cell_type": "markdown",
   "metadata": {},
   "source": [
    "##### For local use\n",
    "\n",
    "Only run the following cell if you have the data locally stored."
   ]
  },
  {
   "cell_type": "code",
   "execution_count": null,
   "metadata": {},
   "outputs": [],
   "source": [
    "# set the working directory, place an r in front to address special characters\n",
    "os.chdir(r'C:\\\\Users\\\\pdweerdt\\\\OneDrive - UGent\\\\I002454 - Geostatistics\\\\AY 2024-2025\\\\Practicals')\n",
    "\n",
    "# get the current directory and store it as a variable\n",
    "\n",
    "cd = os.getcwd()\n",
    "print(\"Current Working Directory is \" , cd)"
   ]
  },
  {
   "cell_type": "markdown",
   "metadata": {},
   "source": [
    "### Loading Tabular & Gridded Data\n",
    "\n",
    "Here's the section to load our data file into a Pandas' DataFrame object."
   ]
  },
  {
   "cell_type": "markdown",
   "metadata": {},
   "source": [
    "Let's load and visualize a grid also.\n",
    "\n",
    "Check the datatype of your gridded data.\n",
    "\n",
    "In this case it is actually also a .dat file, so we can use the same function to import it. The .grid extension was given to indicate that it is gridded data."
   ]
  },
  {
   "cell_type": "code",
   "execution_count": null,
   "metadata": {},
   "outputs": [],
   "source": [
    "# Here you can adjust the relative Path to the data folder\n",
    "\n",
    "data_path = cd + '/Hard_data' "
   ]
  },
  {
   "cell_type": "code",
   "execution_count": null,
   "metadata": {},
   "outputs": [],
   "source": [
    "file_name = '//prediction.dat'\n",
    "\n",
    "df = GSLIB.GSLIB2Dataframe(data_path + file_name) # read the data\n",
    "\n",
    "df.head()"
   ]
  },
  {
   "cell_type": "markdown",
   "metadata": {},
   "source": [
    "### Define feature of interest"
   ]
  },
  {
   "cell_type": "code",
   "execution_count": null,
   "metadata": {},
   "outputs": [],
   "source": [
    "feature = 'Co'\n",
    "unit = 'ppm'\n",
    "dist_unit = 'km'"
   ]
  },
  {
   "cell_type": "code",
   "execution_count": null,
   "metadata": {},
   "outputs": [],
   "source": [
    "#  define a colormap\n",
    "\n",
    "cmap = plt.cm.inferno                                         # color map inferno\n",
    "\n",
    "cmap_rainb = plt.cm.turbo # similar to what is shown on the slides"
   ]
  },
  {
   "cell_type": "markdown",
   "metadata": {},
   "source": [
    "# Directional experimental variograms"
   ]
  },
  {
   "cell_type": "markdown",
   "metadata": {},
   "source": [
    "### Experimental Variograms\n",
    "\n",
    "We can use the location maps to help determine good variogram calculation parameters. For example:\n",
    "\n",
    "```p\n",
    "tmin = -9999.; tmax = 9999.; \n",
    "lag_dist = 100.0; lag_tol = 50.0; nlag = 7; bandh = 9999.9; azi = azi; atol = 22.5\n",
    "```\n",
    "* **tmin**, **tmax** are trimming limits - set to have no impact, no need to filter the data\n",
    "* **lag_dist**, **lag_tol** are the lag distance, lag tolerance - set based on the common data spacing and tolerance as 50% of lag distance to avoid overlapping or missing pairs\n",
    "* **nlag** is number of lags -\n",
    "* **bandh** is the horizontal band width - here set to have no effect\n",
    "* **azi** is the azimuth -"
   ]
  },
  {
   "cell_type": "code",
   "execution_count": null,
   "metadata": {},
   "outputs": [],
   "source": [
    "tmin = -9999.9; tmax = 9999.9"
   ]
  },
  {
   "cell_type": "markdown",
   "metadata": {},
   "source": [
    "First we need to derive the direction of maximum spatial continuity (= azimuth angle)"
   ]
  },
  {
   "cell_type": "code",
   "execution_count": null,
   "metadata": {},
   "outputs": [],
   "source": [
    "# variogram parameters\n",
    "lag_dist = 0.2\n",
    "lag_tol = 0.1\n",
    "nlag = 10\n",
    "bandh = 9999.9\n",
    "\n",
    "n_directions = 4 # directions will be equally divided\n",
    "azi = 0 # value between 0 and 180, first direction to work around, \n",
    "        # can be first guess of azimuth angle\n",
    "\n",
    "atol = 180/(n_directions*2) #preferably half of the angle separation\n",
    "isill = None  # don't standardize sill\n",
    "\n",
    "# Calculate variograms for four directions\n",
    "plt.figure(figsize=(12, 12))\n",
    "\n",
    "for direction in range(n_directions):\n",
    "    # calculate the azimuth based on the initial azimuth and number of directions\n",
    "    angle = (azi + direction * 180 / n_directions) % 180\n",
    "    lag, gamma, npair = geostats.gamv(df, \"Xloc\", \"Yloc\", feature, \n",
    "                                    tmin, tmax, lag_dist, lag_tol, nlag, \n",
    "                                    angle, atol, bandh, isill\n",
    "                                    )\n",
    "    \n",
    "    plt.subplot(2, 2, direction + 1)\n",
    "    plt.scatter(lag, gamma, color='white', edgecolor='black', s=npair / 17, marker='o', label='All', zorder=10)\n",
    "    \n",
    "    plt.xlabel(r'Lag Distance $\\bf h$ (' + dist_unit + ')')\n",
    "    plt.ylabel(r'$\\gamma \\bf(h)$ (' + unit + '$^2$)')\n",
    "    plt.title(f'Experimental Variogram - {angle} °')\n",
    "\n",
    "    plt.xlim([0, 2.1]) # limit the maximum lag distance\n",
    "    plt.ylim([0, 20])\n",
    "\n",
    "    plt.legend(loc='upper left')"
   ]
  },
  {
   "cell_type": "markdown",
   "metadata": {},
   "source": [
    "# Modelling directional experimental variograms"
   ]
  },
  {
   "cell_type": "markdown",
   "metadata": {},
   "source": [
    "\n",
    "\n",
    "Fit a positive definite variogram model \n",
    "* **nug**: nugget effect\n",
    "\n",
    "* **c1 / c2**: contributions of the sill - note\n",
    "\n",
    "* **hmaj1 / hmaj2**: range in the major direction\n",
    "\n",
    "* **hmin1 / hmin2**: range in the minor direction"
   ]
  },
  {
   "cell_type": "markdown",
   "metadata": {},
   "source": [
    "What type of anisotropy did we observe?"
   ]
  },
  {
   "cell_type": "markdown",
   "metadata": {},
   "source": [
    "## Geometrical anisotropy"
   ]
  },
  {
   "cell_type": "code",
   "execution_count": null,
   "metadata": {},
   "outputs": [],
   "source": [
    "#  Geometrical anisotropy: the range varies as a function of the direction\n",
    "\n",
    "nug = 0.2\n",
    "nst = 1     #considering a model without nested structures                                    \n",
    "it1 = 2     #structure: 1 - spherical, 2 - exponential, 3 - gaussian\n",
    "cc1 = 0.64  #sill contribution\n",
    "azi1 = 45  #Define the azimuth angle based on previous directional variograms\n",
    "hmaj1 = 1.05; hmin1 = 0.35\n",
    "\n",
    "vario_geom = GSLIB.make_variogram(\n",
    "                                nug,nst,it1,cc1,azi1,hmaj1,hmin1,\n",
    "                                ) # make model object"
   ]
  },
  {
   "cell_type": "code",
   "execution_count": null,
   "metadata": {},
   "outputs": [],
   "source": [
    "# Calculate variograms for four directions\n",
    "plt.figure(figsize=(12, 12))\n",
    "\n",
    "# lags for the model function (not the same as the experimental variogram!)\n",
    "xlag = 0.01; # set low value for model plotting,\n",
    "nlag = 1000; # nlag times xlag should be greater than the maximum distance in the experimental variogram\n",
    "\n",
    "for direction in range(n_directions):\n",
    "    azi = 180 * direction / n_directions #e.g. for first direction, azi = 0\n",
    "    lag, gamma, npair = geostats.gamv(df, \"Xloc\", \"Yloc\", feature, \n",
    "                                    tmin, tmax, lag_dist, lag_tol, nlag, \n",
    "                                    azi, atol, bandh, isill\n",
    "                                    )\n",
    "    \n",
    "    index,h,gam,cov,ro = geostats.vmodel(nlag, xlag, azi, vario_geom\n",
    "                                         )\n",
    "\n",
    "    plt.subplot(2, 2, direction + 1)\n",
    "    plt.scatter(lag, gamma, color='white', edgecolor='black', s=npair / 17, marker='o', label='Experimental', zorder=10)\n",
    "\n",
    "    plt.plot(h,gam,color='black',\n",
    "            zorder=100,label = 'Model')\n",
    "\n",
    "    plt.xlabel(r'Lag Distance $\\bf h$ (' + dist_unit + ')')\n",
    "    plt.ylabel(r'$\\gamma \\bf(h)$ (' + unit + '$^2$)')\n",
    "    plt.title(f'Experimental Variogram - {azi} °')\n",
    "\n",
    "    plt.xlim([0, 2.1])\n",
    "    plt.ylim([0, 20])\n",
    "\n",
    "    plt.legend(loc='upper left')"
   ]
  },
  {
   "cell_type": "markdown",
   "metadata": {},
   "source": [
    "## Zonal Anisotropy"
   ]
  },
  {
   "cell_type": "code",
   "execution_count": null,
   "metadata": {},
   "outputs": [],
   "source": [
    "# Define the azimuth angle based on previous directional variograms\n",
    "azi = 45"
   ]
  },
  {
   "cell_type": "code",
   "execution_count": null,
   "metadata": {},
   "outputs": [],
   "source": [
    "nug = 1.45; nst = 2                                             # 2 nest structure variogram model parameters\n",
    "it1 = 2; cc1 = 9.6; \n",
    "azi1 = 45; # can be any angle\n",
    "hmaj1 = 1.1; hmin1 = 1.1\n",
    "it2 = 2; # prefereably same as it1\n",
    "cc2 = 4.2; # sill contribution of the second structure in major direction\n",
    "azi2 = 45; # direction with maximum spatial continuity (perpendicular to the major axis)\n",
    "hmaj2 = 1000; hmin2 = 1.1\n",
    "\n",
    "vario_zon = GSLIB.make_variogram(nug,nst,it1,cc1,azi1,hmaj1,hmin1,it2,cc2,azi2,hmaj2,hmin2) # make model object"
   ]
  },
  {
   "cell_type": "code",
   "execution_count": null,
   "metadata": {},
   "outputs": [],
   "source": [
    "# Calculate variograms for four directions\n",
    "plt.figure(figsize=(12, 12))\n",
    "\n",
    "# lags for the model function (not the same as the experimental variogram!)\n",
    "xlag = 0.01; # set low value for model plotting,\n",
    "nlag = 1000; # nlag times xlag should be greater than the maximum distance in the experimental variogram\n",
    "\n",
    "for direction in range(n_directions):\n",
    "    azi = 180 * direction / n_directions #e.g. for first direction, azi = 0\n",
    "    lag, gamma, npair = geostats.gamv(df, \"Xloc\", \"Yloc\", feature, \n",
    "                                    tmin, tmax, lag_dist, lag_tol, nlag, \n",
    "                                    azi, atol, bandh, isill\n",
    "                                    )\n",
    "    \n",
    "    index,h,gam,cov,ro = geostats.vmodel(nlag, xlag, azi, vario_zon\n",
    "                                        )\n",
    "\n",
    "    plt.subplot(2, 2, direction + 1)\n",
    "    plt.scatter(lag, gamma, color='white', edgecolor='black', s=npair / 17, marker='o', label='experimental', zorder=10)\n",
    "    plt.plot(h,gam,color='black',\n",
    "            zorder=100,label = 'model')\n",
    "\n",
    "    plt.xlabel(r'Lag Distance $\\bf h$ (' + dist_unit + ')')\n",
    "    plt.ylabel(r'$\\gamma \\bf(h)$ (' + unit + '$^2$)')\n",
    "    plt.title(f'Experimental Variogram - {azi} {direction}')\n",
    "\n",
    "    plt.xlim([0, 2.1]) # limit the maximum lag distance\n",
    "    plt.ylim([0, 20])\n",
    "\n",
    "    plt.legend(loc='upper left')"
   ]
  },
  {
   "cell_type": "markdown",
   "metadata": {},
   "source": [
    "# EXTRA CODE"
   ]
  },
  {
   "cell_type": "markdown",
   "metadata": {},
   "source": [
    "Some extra code for interactive plotting, please note that this part is not fully worked out yet."
   ]
  },
  {
   "cell_type": "code",
   "execution_count": null,
   "metadata": {},
   "outputs": [],
   "source": [
    "# from matplotlib import patches\n",
    "# from math import sin, cos, radians, pi"
   ]
  },
  {
   "cell_type": "code",
   "execution_count": null,
   "metadata": {},
   "outputs": [],
   "source": [
    "# def vmodel_struct(nlag,xlag,azm,vario,istruct):\n",
    "    \n",
    "# # Parameters\n",
    "#     MAXNST=4\n",
    "#     DEG2RAD=3.14159265/180.0 \n",
    "#     MAXROT=MAXNST+1\n",
    "#     EPSLON = 1.0e-20\n",
    "#     VERSION= 1.01\n",
    "\n",
    "# # Declare arrays\n",
    "#     index = np.zeros(nlag+1)\n",
    "#     h = np.zeros(nlag+1)\n",
    "#     gam = np.zeros(nlag+1)\n",
    "#     cov = np.zeros(nlag+1)\n",
    "#     ro = np.zeros(nlag+1)\n",
    "    \n",
    "# # Load the variogram\n",
    "#     nst = vario[\"nst\"]; cc = np.zeros(nst); aa = np.zeros(nst); it = np.zeros(nst); ang = np.zeros(nst)\n",
    "#     anis = np.zeros(nst)\n",
    "    \n",
    "#     c0 = vario[\"nug\"]\n",
    "#     cc[0] = vario[\"cc1\"]\n",
    "#     it[0] = vario[\"it1\"]\n",
    "#     ang[0] = vario[\"azi1\"]\n",
    "#     aa[0] = vario[\"hmaj1\"]\n",
    "#     anis[0] = vario[\"hmin1\"] / vario[\"hmaj1\"]\n",
    "#     if nst == 2:\n",
    "#         cc[1] = vario[\"cc2\"]\n",
    "#         it[1] = vario[\"it2\"]\n",
    "#         ang[1] = vario[\"azi2\"]\n",
    "#         aa[1] = vario[\"hmaj2\"]\n",
    "#         anis[1] = vario[\"hmin2\"] / vario[\"hmaj2\"]\n",
    "                    \n",
    "#     xoff = math.sin(DEG2RAD*azm)*xlag\n",
    "#     yoff = math.cos(DEG2RAD*azm)*xlag\n",
    "#     print(' x,y,z offsets = ' + str(xoff) + ',' + str(yoff))\n",
    "#     rotmat, maxcov = geostats.setup_rotmat(c0, nst, it, cc, ang, 99999.9)   \n",
    "          \n",
    "    \n",
    "#     xx = 0.0; yy = 0.0      \n",
    "#     for il in range(0,nlag+1):\n",
    "#         index[il] = il\n",
    "#         cov[il] = cova2_struct(0.0,0.0,xx,yy,nst,c0,9999.9,cc,aa,it,ang,anis,rotmat,maxcov,istruct)\n",
    "#         #gam[il] = maxcov - cov[il]\n",
    "#         if istruct == -1:\n",
    "#             gam[il] = c0 - cov[il]  \n",
    "#         else:\n",
    "#             gam[il] = cc[istruct] - cov[il]\n",
    "#         ro[il]  = cov[il]/maxcov\n",
    "#         h[il]   = math.sqrt(max((xx*xx+yy*yy),0.0))\n",
    "#         xx = xx + xoff\n",
    "#         yy = yy + yoff\n",
    "\n",
    "#     print(gam)\n",
    "# # finished\n",
    "#     return index,h,gam,cov,ro\n",
    "\n",
    "# def cova2_struct(x1, y1, x2, y2, nst, c0, pmx, cc, aa, it, ang, anis, rotmat, maxcov, istruct):\n",
    "#     EPSLON = 0.000001\n",
    "#     # Check for very small distance\n",
    "#     dx = x2 - x1\n",
    "#     dy = y2 - y1\n",
    "\n",
    "#     if (dx * dx + dy * dy) < EPSLON:\n",
    "#         cova2_ = cc[istruct]\n",
    "#         return cova2_\n",
    "#     # Non-zero distance, loop over all the structures\n",
    "#     cova2_ = 0.0\n",
    "#     # Compute the appropriate structural distance \n",
    "#     dx1 = dx * rotmat[0, istruct] + dy * rotmat[1, istruct]\n",
    "#     dy1 = (dx * rotmat[2, istruct] + dy * rotmat[3, istruct]) / anis[istruct]\n",
    "#     h = math.sqrt(max((dx1 * dx1 + dy1 * dy1), 0.0))\n",
    "#     if istruct == -1:\n",
    "#         return 0.0\n",
    "#     elif istruct == 0 or istruct == 1:\n",
    "#         if it[istruct] == 1:# Spherical model\n",
    "#             hr = h / aa[istruct]\n",
    "#             if hr < 1.0:\n",
    "#                 cova2_ = cova2_ + cc[istruct] * (1.0 - hr * (1.5 - 0.5 * hr * hr))\n",
    "#         elif it[istruct] == 2: # Exponential model\n",
    "#             cova2_ = cova2_ + cc[istruct] * np.exp(-3.0 * h / aa[istruct])\n",
    "#         elif it[istruct] == 3: # Gaussian model\n",
    "#             hh = -3.0 * (h * h) / (aa[istruct] * aa[istruct])\n",
    "#             cova2_ = cova2_ + cc[istruct] * np.exp(hh)\n",
    "#         elif it[istruct] == 4: # Power model\n",
    "#             cov1 = pmx - cc[istruct] * (h ** aa[istruct])\n",
    "#             cova2_ = cova2_ + cov1\n",
    "#     return cova2_\n",
    "\n",
    "# def point_pos(x0, y0, d, theta):\n",
    "#     theta_rad = pi/2 - radians(theta)\n",
    "#     return x0 + d*cos(theta_rad), y0 + d*sin(theta_rad)"
   ]
  },
  {
   "cell_type": "code",
   "execution_count": null,
   "metadata": {},
   "outputs": [],
   "source": [
    "# # interactive calculation of the experimental variogram\n",
    "# l = widgets.Text(value='                              Variogram Calculation Interactive Demonstration, Michael Pyrcz, Associate Professor, The University of Texas at Austin',layout=Layout(width='950px', height='30px'))\n",
    "\n",
    "# # set lag\n",
    "# lag = widgets.FloatSlider(\n",
    "#                         min = 0.1, max = 1, value = 0.1, step = 0.1, # optionally adjust the min, max and step size\n",
    "#                         description = 'lag',orientation='vertical',layout=Layout(width='90px', height='200px'),\n",
    "#                         continuous_update=False\n",
    "#                         )\n",
    "# lag.style.handle_color = 'gray'\n",
    "\n",
    "# # set lag tolerance\n",
    "# lag_tol = widgets.FloatSlider(\n",
    "#                             min = 0.01, max = 1, value = 0.01, step = 0.01, # optionally adjust the min, max and step size\n",
    "#                             description = 'lag tolerance',orientation='vertical',layout=Layout(width='90px', height='200px'),\n",
    "#                             continuous_update=False\n",
    "#                             )\n",
    "# lag_tol.style.handle_color = 'gray'\n",
    "\n",
    "# # set number of lags\n",
    "# nlag = widgets.IntSlider(\n",
    "#                         min = 1, max = 100, value = 1, step = 1, # optionally adjust the min, max and step size\n",
    "#                         description = 'number of lags',orientation='vertical',layout=Layout(width='90px', height='200px'),\n",
    "#                         continuous_update=False\n",
    "#                         )\n",
    "# nlag.style.handle_color = 'gray'\n",
    "\n",
    "# # set azimuth\n",
    "# azi = widgets.FloatSlider(\n",
    "#                         min = 0, max = 360, value = 0, step = 5, # optionally adjust the min, max and step size\n",
    "#                         description = 'azimuth',orientation='vertical',layout=Layout(width='90px', height='200px'),\n",
    "#                         continuous_update=False\n",
    "#                         )\n",
    "# azi.style.handle_color = 'gray'\n",
    "\n",
    "# # set azimuth tolerance\n",
    "# azi_tol = widgets.FloatSlider(\n",
    "#                             min = 10, max = 90, value = 90, step = 5, # optionally adjust the min, max and step size\n",
    "#                             description = 'azimuth tolerance',orientation='vertical',layout=Layout(width='120px', height='200px'),\n",
    "#                             continuous_update=False\n",
    "#                             )\n",
    "# azi_tol.style.handle_color = 'gray'\n",
    "\n",
    "# # set bandwidth\n",
    "# bandwidth = widgets.FloatSlider(\n",
    "#                                 min = 0.1, max = 1000, value = 1000, step = 0.5, # optionally adjust the min, max and step size\n",
    "#                                 description = 'bandwidth',orientation='vertical',layout=Layout(width='90px', height='200px'),\n",
    "#                                 continuous_update=False\n",
    "#                                 )\n",
    "# bandwidth.style.handle_color = 'gray'\n",
    "\n",
    "# ui1 = widgets.HBox([lag,lag_tol,nlag,azi,azi_tol,bandwidth],) # basic widget formatting    \n",
    "# ui = widgets.VBox([l,ui1],)\n",
    "\n"
   ]
  },
  {
   "cell_type": "code",
   "execution_count": null,
   "metadata": {},
   "outputs": [],
   "source": [
    "# def f_make(lag,lag_tol,nlag,azi,azi_tol,bandwidth):     # function to take parameters, calculate variogram and plot\n",
    "# #    text_trap = io.StringIO()\n",
    "# #    sys.stdout = text_trap\n",
    "#     global lags,gammas,npps,lags2,gammas2,npps2\n",
    "#     tmin = -9999.9; tmax = 9999.9\n",
    "#     lags, gammas, npps = geostats.gamv(\n",
    "#                                     df,\"Xloc\",\"Yloc\",feature,\n",
    "#                                     tmin,tmax,lag,lag_tol,nlag,azi,azi_tol,bandwidth, isill=None\n",
    "#                                     )\n",
    "#     lags2, gammas2, npps2 = geostats.gamv(                                    \n",
    "#                                     df,\"Xloc\",\"Yloc\",feature,\n",
    "#                                     tmin,tmax,lag,lag_tol,nlag,azi+90,azi_tol,bandwidth, isill=None\n",
    "#                                     )\n",
    "#     plt.subplot(111)                                    # plot experimental variogram\n",
    "#     plt.scatter(lags,gammas,color = 'black',s = npps*0.03,label = 'Major Azimuth ' +str(azi), alpha = 0.8)\n",
    "#     plt.scatter(lags2,gammas2,color = 'red',s = npps*0.03,label = 'Minor Azimuth ' +str(azi+90.0), alpha = 0.8)\n",
    "#     # plt.plot([0,2000],[1.0,1.0],color = 'black')\n",
    "#     plt.xlabel(r'Lag Distance $\\bf(h)$, (m)')\n",
    "#     plt.ylabel(r'$\\gamma \\bf(h)$')\n",
    "#     if azi_tol < 90.0:\n",
    "#         plt.title('Directional NSCORE ' + feature + ' Variogram - Azi. ' + str(np.round(azi,0)) + ', Azi. Tol.' + str(azi_tol))\n",
    "#     else: \n",
    "#         plt.title('Omni Directional NSCORE ' + feature + ' Variogram ')\n",
    "#     plt.xlim([0,5]); plt.ylim([0,1.8])\n",
    "#     plt.legend(loc=\"lower right\")\n",
    "#     plt.grid(True)\n",
    "    \n",
    "#     plt.subplots_adjust(left=0.0, bottom=0.0, right=1.5, top=1.0, wspace=0.3, hspace=0.3)\n",
    "#     plt.show()\n",
    "    \n",
    "#     return"
   ]
  },
  {
   "cell_type": "code",
   "execution_count": null,
   "metadata": {},
   "outputs": [],
   "source": [
    "# # connect the function to make the samples and plot to the widgets    \n",
    "# interactive_plot = widgets.interactive_output(f_make, {'lag':lag,'lag_tol':lag_tol,'nlag':nlag,'azi':azi,'azi_tol':azi_tol,'bandwidth':bandwidth})\n",
    "# interactive_plot.clear_output(wait = True)               # reduce flickering by delaying plot updating"
   ]
  },
  {
   "cell_type": "code",
   "execution_count": null,
   "metadata": {},
   "outputs": [],
   "source": [
    "# display(ui, interactive_plot)                           # display the interactive plot"
   ]
  },
  {
   "cell_type": "markdown",
   "metadata": {},
   "source": [
    "### Interactive Variogram Calculation Demonstration\n",
    "\n",
    "* calculate omnidirectional and direction experimental variograms \n",
    "\n",
    "#### Michael Pyrcz, Associate Professor, University of Texas at Austin \n",
    "\n",
    "##### [Twitter](https://twitter.com/geostatsguy) | [GitHub](https://github.com/GeostatsGuy) | [Website](http://michaelpyrcz.com) | [GoogleScholar](https://scholar.google.com/citations?user=QVZ20eQAAAAJ&hl=en&oi=ao) | [Book](https://www.amazon.com/Geostatistical-Reservoir-Modeling-Michael-Pyrcz/dp/0199731446) | [YouTube](https://www.youtube.com/channel/UCLqEr-xV-ceHdXXXrTId5ig)  | [LinkedIn](https://www.linkedin.com/in/michael-pyrcz-61a648a1) | [GeostatsPy](https://github.com/GeostatsGuy/GeostatsPy)\n",
    "\n",
    "### The Problem\n",
    "\n",
    "Calculate interpretable experimental variograms for sparse, irregularly-space spatial data. Note, size of the experimental point is scaled by the number of pairs.\n",
    "\n",
    "* **azimuth** is the azimuth of the lag vector\n",
    "\n",
    "* **azimuth tolerance** is the maximum allowable departure from the azimuth\n",
    "\n",
    "* **unit lag distance** the size of the bins in lag distance\n",
    "\n",
    "* **lag distance tolerance** - the allowable tolerance in lage distance\n",
    "\n",
    "* **number of lags** - number of lags in the experimental variogram\n",
    "\n",
    "* **bandwidth** - maximum departure from the lag vector"
   ]
  },
  {
   "cell_type": "code",
   "execution_count": null,
   "metadata": {},
   "outputs": [],
   "source": [
    "# # interactive calculation of the sample set (control of source parametric distribution and number of samples)\n",
    "# l = widgets.Text(value='               Variogram Modeling, Visualize Nested Structures and Azimuth Interpolation, Michael Pyrcz, Professor, The University of Texas at Austin',layout=Layout(width='950px', height='30px'))\n",
    "# nug = widgets.FloatSlider(min = 0.0001, max = 1.0, value = 0.0001, step = 0.1, description = r'$c_{nugget}$',orientation='vertical',layout=Layout(width='60px', height='200px'))\n",
    "# nug.style.handle_color = 'gray'\n",
    "# it1 = widgets.Dropdown(options=['Spherical', 'Exponential', 'Gaussian'],value='Spherical',\n",
    "#     description=r'$Type_1$:',disabled=False,layout=Layout(width='200px', height='30px'))\n",
    "# # c1 = widgets.FloatSlider(min=0.0001, max = 1.0, value = 0.2, description = r'$c_1$',orientation='vertical',layout=Layout(width='60px', height='200px'))\n",
    "# # c1.style.handle_color = 'gray'\n",
    "# hmaj1 = widgets.FloatSlider(min=0.01, max = 10000.0, value = 800.0, step = 25.0, description = r'$a_{1,maj}$',orientation='vertical',layout=Layout(width='60px', height='200px'))\n",
    "# hmaj1.style.handle_color = 'black'\n",
    "# hmin1 = widgets.FloatSlider(min = 0.01, max = 10000.0, value = 325.0, step = 25.0, description = r'$a_{1,min}$',orientation='vertical',layout=Layout(width='60px', height='200px'))\n",
    "# hmin1.style.handle_color = 'red'\n",
    "\n",
    "# it2 = widgets.Dropdown(options=['Spherical', 'Exponential', 'Gaussian'],value='Spherical',\n",
    "#     description=r'$Type_2$:',disabled=False,layout=Layout(width='200px', height='30px'))\n",
    "# c2 = widgets.FloatSlider(min=0.0001, max = 1.0, value = 0.0001, description = r'$c_2$',orientation='vertical',layout=Layout(width='60px', height='200px'))\n",
    "# c2.style.handle_color = 'gray'\n",
    "# hmaj2 = widgets.FloatSlider(min=0.01, max = 10000.0, value = 800.0, step = 25.0, description = r'$a_{2,maj}$',orientation='vertical',layout=Layout(width='60px', height='200px'))\n",
    "# hmaj2.style.handle_color = 'black'\n",
    "# hmin2 = widgets.FloatSlider(min = 0.01, max = 10000.0, value = 325.0, step = 25.0, description = r'$a_{2,min}$',orientation='vertical',layout=Layout(width='60px', height='200px'))\n",
    "# hmin2.style.handle_color = 'red'\n",
    "# new_azimuth = widgets.FloatSlider(min = 0.0, max = 360.0, value = 45.0, step = 5.0, description = r'$azi_{inter}$',orientation='vertical',layout=Layout(width='60px', height='200px'))\n",
    "# new_azimuth.style.handle_color = 'purple'\n",
    "\n",
    "# ui9 = widgets.HBox([nug,it1,hmaj1,hmin1,it2,c2,hmaj2,hmin2,new_azimuth],)                   # basic widget formatting   \n",
    "# #ui2 = widgets.HBox([it2,c2,hmaj2,hmin2],)                   # basic widget formatting   \n",
    "# ui10 = widgets.VBox([l,ui9],)\n",
    "\n",
    "# def convert_type(it):\n",
    "#     if it == 'Spherical': \n",
    "#         return 1\n",
    "#     elif it == 'Exponential':\n",
    "#         return 2\n",
    "#     else: \n",
    "#         return 3\n",
    "\n",
    "# def f_make2(nug,it1,hmaj1,hmin1,it2,c2,hmaj2,hmin2,new_azimuth):                       # function to take parameters, make sample and plot\n",
    "#     azimuth = azi.value\n",
    "#     c1 = 1.0 - nug - c2\n",
    "#     it1 = convert_type(it1); it2 = convert_type(it2)\n",
    "#     if c2 > 0.0:\n",
    "#         nst = 2\n",
    "#     else:\n",
    "#         nst = 1\n",
    "    \n",
    "#     vario = GSLIB.make_variogram(nug,nst,it1,c1,0.0,hmaj1,hmin1,it2,c2,0.0,hmaj2,hmin2) # make model object\n",
    "#     nlag = 100; xlag = 10;                                     \n",
    "#     index_maj,h_maj,gam_maj,cov_maj,ro_maj = geostats.vmodel(nlag,xlag,0.0,vario)   # project the model in the major azimuth                                                  # project the model in the 135 azimuth\n",
    "#     index_min,h_min,gam_min,cov_min,ro_min = geostats.vmodel(nlag,xlag,90.0,vario)\n",
    "#     index_new,h_new,gam_new,cov_new,ro_new = geostats.vmodel(nlag,xlag,azimuth-new_azimuth,vario)\n",
    "    \n",
    "#     _,h_maj0,gam_maj0,_,_ = vmodel_struct(nlag,xlag,0.0,vario,-1) \n",
    "#     _,h_maj1,gam_maj1,_,_ = vmodel_struct(nlag,xlag,0.0,vario,0) \n",
    "#     _,h_maj2,gam_maj2,_,_ = vmodel_struct(nlag,xlag,0.0,vario,1) \n",
    "#     _,h_min0,gam_min0,_,_ = vmodel_struct(nlag,xlag,90.0,vario,-1) \n",
    "#     _,h_min1,gam_min1,_,_ = vmodel_struct(nlag,xlag,90.0,vario,0) \n",
    "#     _,h_min2,gam_min2,_,_ = vmodel_struct(nlag,xlag,90.0,vario,1) \n",
    "#     _,h_new0,gam_new0,_,_ = vmodel_struct(nlag,xlag,azimuth-new_azimuth,vario,-1) \n",
    "#     _,h_new1,gam_new1,_,_ = vmodel_struct(nlag,xlag,azimuth-new_azimuth,vario,0) \n",
    "#     _,h_new2,gam_new2,_,_ = vmodel_struct(nlag,xlag,azimuth-new_azimuth,vario,1) \n",
    "    \n",
    "#     plt.subplot(221)                                    # plot experimental variogram\n",
    "#     plt.scatter(lags,gammas,color = 'black',s = npps*0.03,label = 'Major Azimuth ' +str(azimuth), alpha = 0.8,zorder=10)\n",
    "#     plt.plot(h_maj,gam_maj,color = 'black',lw=3,zorder=10)\n",
    "#     if nug > 0.0001: \n",
    "#         plt.plot(h_maj0,gam_maj0,color = 'black',lw=1.5)\n",
    "#         plt.fill_between(h_maj,gam_maj0,np.full(len(h_maj),0),color='grey',alpha=1.0,zorder=1,label = 'Nugget')\n",
    "#     if c1 > 0.0001: \n",
    "#         plt.plot(h_maj,gam_maj1+gam_maj0,color = 'black',lw=1.5)\n",
    "#         plt.fill_between(h_maj,gam_maj1+gam_maj0,gam_maj0,color='darkorange',alpha=1.0,zorder=1,label = 'Structure #1')\n",
    "    \n",
    "#     if c2 > 0.0001:   \n",
    "#         plt.plot(h_maj,gam_maj2+gam_maj1+gam_maj0,color = 'black',lw=1.5)\n",
    "#         plt.fill_between(h_maj,gam_maj2+gam_maj1+gam_maj0,gam_maj1+gam_maj0,color='deepskyblue',alpha=1.0,zorder=1,label='Structure #2')\n",
    "    \n",
    "#     plt.plot([0,2000],[1.0,1.0],color = 'black',ls='--')\n",
    "#     plt.xlabel(r'Lag Distance $\\bf(h)$, (m)'); plt.ylabel(r'$\\gamma \\bf(h)$')\n",
    "#     if azi_tol.value < 90.0:\n",
    "#         plt.title('Major Directional NSCORE ' + feature + ' Variogram - Azi. ' + str(azimuth))\n",
    "#     else: \n",
    "#         plt.title('Omni Directional NSCORE ' + feature + ' Variogram ')\n",
    "\n",
    "#     if c1 > 0.0001:\n",
    "#         plt.vlines(hmaj1,0,1.8,color='black',lw=1.5); \n",
    "#         plt.annotate('Structure 1 Range',[hmaj1-30,1.3],rotation=90.0);\n",
    "#     if c2 > 0.0001:\n",
    "#         plt.vlines(hmaj2,0,1.8,color='black',lw=2.0)\n",
    "#         plt.annotate('Structure 2 Range',[hmaj2-30,1.3],color='black',rotation=90.0)\n",
    "#     plt.xlim([0,1000]); plt.ylim([0,1.8])\n",
    "#     plt.legend(loc=\"upper left\")\n",
    "#     plt.grid(True)\n",
    "    \n",
    "#     plt.subplot(222)                                    # plot experimental variogram\n",
    "#     plt.scatter(lags2,gammas2,color = 'red',s = npps*0.03,label = 'Minor Azimuth ' +str(azimuth+90.0), alpha = 0.8,zorder=10)\n",
    "#     plt.plot(h_min,gam_min,color = 'red',lw=3)\n",
    "#     if nug > 0.0001:\n",
    "#         plt.plot(h_min0,gam_min0,color = 'red',lw=1.5)\n",
    "#         plt.fill_between(h_min,gam_min0,np.full(len(h_maj),0),color='grey',alpha=1.0,zorder=1,label = 'Nugget')\n",
    "#     if c1 > 0.0001:  \n",
    "#         plt.plot(h_min,gam_min1+gam_min0,color = 'red',lw=1.5)\n",
    "#         plt.fill_between(h_min,gam_min1+gam_min0,gam_min0,color='darkorange',alpha=1.0,zorder=1,label = 'Structure #1')\n",
    "    \n",
    "#     if c2 > 0.0001:   \n",
    "#         plt.plot(h_min,gam_min2+gam_min1+gam_min0,color = 'red',lw=1.5)\n",
    "#         plt.fill_between(h_min,gam_min2+gam_min1+gam_min0,gam_min1+gam_min0,color='deepskyblue',alpha=1.0,zorder=1,label='Structure #2')\n",
    "    \n",
    "#     plt.plot([0,2000],[1.0,1.0],color = 'black',ls='--')\n",
    "#     plt.xlabel(r'Lag Distance $\\bf(h)$, (m)')\n",
    "#     plt.ylabel(r'$\\gamma \\bf(h)$')\n",
    "#     if azi_tol.value < 90.0:\n",
    "#         plt.title('Minor Directional NSCORE ' + feature + ' Variogram - Azi. ' + str(azimuth + 90.0))\n",
    "#     else: \n",
    "#         plt.title('Omni Directional NSCORE ' + feature + ' Variogram ')\n",
    "#     if c1 > 0.0001:      \n",
    "#         plt.vlines(hmin1,0,1.8,color='red',lw=1.5)\n",
    "#         plt.annotate('Structure 1 Range',[hmin1-30,1.3],color='red',rotation=90.0)\n",
    "#     if c2 > 0.0001:  \n",
    "#         plt.vlines(hmin2,0,1.8,color='red',lw=2.0)\n",
    "#         plt.annotate('Structure 2 Range',[hmin2-30,1.3],color='red',rotation=90.0)\n",
    "#     plt.xlim([0,1000]); plt.ylim([0,1.8])\n",
    "#     plt.legend(loc=\"upper left\")\n",
    "#     plt.grid(True)\n",
    "    \n",
    "#     plt.subplot(223)                                    # plot experimental variogram\n",
    "#     plt.plot(h_new,gam_new,color = 'purple',lw=3)\n",
    "#     if nug > 0.0001:\n",
    "#         plt.plot(h_new0,gam_new0,color = 'purple',lw=1.5)\n",
    "#         plt.fill_between(h_new,gam_new0,np.full(len(h_maj),0),color='grey',alpha=1.0,zorder=1,label = 'Nugget')\n",
    "#     if c1 > 0.0001:\n",
    "#         plt.plot(h_new,gam_new1+gam_new0,color = 'purple',lw=1.5)\n",
    "#         plt.fill_between(h_new,gam_new1+gam_new0,gam_new0,color='darkorange',alpha=1.0,zorder=1,label = 'Structure #1')\n",
    "    \n",
    "#     if c2 > 0.0001:   \n",
    "#         plt.plot(h_new,gam_new2+gam_new1+gam_new0,color = 'purple',lw=1.5)\n",
    "#         plt.fill_between(h_new,gam_new2+gam_new1+gam_new0,gam_new1+gam_new0,color='deepskyblue',alpha=1.0,zorder=1,label='Structure #2')\n",
    "    \n",
    "#     plt.plot([0,2000],[1.0,1.0],color = 'black',ls='--')\n",
    "#     plt.xlabel(r'Lag Distance $\\bf(h)$, (m)')\n",
    "#     plt.ylabel(r'$\\gamma \\bf(h)$')\n",
    "#     if azi_tol.value < 90.0:\n",
    "#         plt.title('Interpolated ' + feature + ' Variogram - Azi. ' + str(new_azimuth))\n",
    "#     else: \n",
    "#         plt.title('Omni Directional NSCORE ' + feature + ' Variogram ')\n",
    "        \n",
    "#     if c1 > 0.0001:\n",
    "#         plt.vlines(hmaj1,0,1.8,color='black',lw=1.5); \n",
    "\n",
    "#     if c1 > 0.0001:      \n",
    "#         plt.vlines(hmin1,0,1.8,color='red',lw=1.5)\n",
    "        \n",
    "#     if c2 > 0.0001:\n",
    "#         plt.vlines(hmaj2,0,1.8,color='black',lw=1.5); \n",
    "  \n",
    "#     if c2 > 0.0001:      \n",
    "#         plt.vlines(hmin2,0,1.8,color='red',lw=1.5)\n",
    "    \n",
    "#     # plt.vlines(hmin1,0,1.8,color='black',lw=1.5); plt.vlines(hmin2,0,1.8,color='deepskyblue',lw=1.5)\n",
    "#     # plt.annotate('Structure 1 Range',[hmin1-30,1.3],rotation=90.0); plt.annotate('Structure 2 Range',[hmin2-30,1.3],color='deepskyblue',rotation=90.0)\n",
    "#     plt.xlim([0,1000]); plt.ylim([0,1.8])\n",
    "#     plt.legend(loc=\"upper left\")\n",
    "#     plt.grid(True)\n",
    "    \n",
    "#     plt.subplot(224)\n",
    "    \n",
    "#     plt.xlim([-2000,2000]); plt.ylim([-2000,2000]); plt.xlabel('X offset (m)'); plt.ylabel('Y offset (m)')\n",
    "#     plt.plot([-2000,2000],[0,0],color='grey',lw=3,zorder=1); plt.plot([0,0],[-2000,2000],color='grey',lw=3,zorder=1)\n",
    "#     plt.grid(True); plt.title('2D Variogram Structures - Ranges and Geometric Anisotropy')\n",
    "    \n",
    "#     if c1 > 0.0001:\n",
    "#         e1 = patches.Ellipse((0, 0), hmaj1*2, hmin1*2,angle=90-azimuth, linewidth=2, fill=True,facecolor='darkorange',edgecolor='black',alpha=1.0,zorder=4)\n",
    "#         plt.gca().add_patch(e1)\n",
    "    \n",
    "#     if c2 > 0.0001:\n",
    "#         e2 = patches.Ellipse((0, 0), hmaj2*2, hmin2*2,angle=90-azimuth, linewidth=2, fill=True,facecolor='deepskyblue',edgecolor='black',alpha=1.0,zorder=2)\n",
    "#         plt.gca().add_patch(e2)\n",
    "    \n",
    "#     xarr,yarr = point_pos(0, 0, hmaj1, azimuth)\n",
    "#     plt.plot([0,xarr],[0,yarr],color='black',zorder=13)\n",
    "    \n",
    "#     xarr2,yarr2 = point_pos(0, 0, hmaj2, azimuth)\n",
    "#     plt.plot([0,xarr2],[0,yarr2],color='black',zorder=10)\n",
    "#     plt.annotate('Major',[xarr2,yarr2],zorder=10)\n",
    "    \n",
    "#     xarr1,yarr1 = point_pos(0, 0, hmin1, azimuth+90.0)\n",
    "#     plt.plot([0,xarr1],[0,yarr1],color='red',zorder=13)\n",
    "    \n",
    "#     xarr2,yarr2 = point_pos(0, 0, hmin2, azimuth+90.0)\n",
    "#     plt.plot([0,xarr2],[0,yarr2],color='red',zorder=10)\n",
    "#     plt.annotate('Minor',[xarr2,yarr2],zorder=10,color='red')\n",
    "    \n",
    "#     xarr_new,yarr_new = point_pos(0, 0, 1200, new_azimuth)\n",
    "#     plt.plot([0,xarr_new],[0,yarr_new],color='purple',zorder=10,lw=3)\n",
    "#     plt.annotate('Interpolated Azimuth',[xarr_new,yarr_new],color='purple',zorder=10)\n",
    "    \n",
    "#     plt.subplots_adjust(left=0.0, bottom=0.0, right=2.0, top=2.5, wspace=0.2, hspace=0.2)\n",
    "#     plt.show()\n",
    "    \n",
    "# # connect the function to make the samples and plot to the widgets    \n",
    "# interactive_plot2 = widgets.interactive_output(f_make2, {'nug':nug, 'it1':it1, 'hmaj1':hmaj1, 'hmin1':hmin1, 'it2':it2, 'c2':c2, 'hmaj2':hmaj2, 'hmin2':hmin2,'new_azimuth':new_azimuth})\n",
    "# interactive_plot2.clear_output(wait = True)               # reduce flickering by delaying plot updating  "
   ]
  },
  {
   "cell_type": "code",
   "execution_count": null,
   "metadata": {},
   "outputs": [],
   "source": [
    "# display(ui10, interactive_plot2)                           # display the interactive plot"
   ]
  }
 ],
 "metadata": {
  "kernelspec": {
   "display_name": "geostatspy",
   "language": "python",
   "name": "python3"
  },
  "language_info": {
   "codemirror_mode": {
    "name": "ipython",
    "version": 3
   },
   "file_extension": ".py",
   "mimetype": "text/x-python",
   "name": "python",
   "nbconvert_exporter": "python",
   "pygments_lexer": "ipython3",
   "version": "3.8.15"
  }
 },
 "nbformat": 4,
 "nbformat_minor": 2
}
