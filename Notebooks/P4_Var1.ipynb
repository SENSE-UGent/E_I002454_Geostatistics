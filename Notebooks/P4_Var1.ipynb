{
 "cells": [
  {
   "cell_type": "markdown",
   "metadata": {},
   "source": [
    "### Disclaimer"
   ]
  },
  {
   "cell_type": "markdown",
   "metadata": {},
   "source": [
    "The following notebook was compiled for the course 'Geostatistics' at Ghent University (lecturer-in-charge: Prof. Dr. Ellen Van De Vijver; teaching assistant: Pablo De Weerdt). It consists of notebook snippets created by Michael Pyrcz. The code and markdown (text) snippets were edited specifically for this course, using the 'Jura data set' (Goovaerts, 1997) as example in the practical classes. Some new code snippets are also included to cover topics which were not found in the Geostastpy package demo books.\n",
    "\n",
    "This notebook is for educational purposes.<br> \n",
    "\n",
    "Guidelines for getting started were adapted from the 'Environmental Soil Sensing' course at Ghent University (lecturer-in-charge: Prof. Dr. Philippe De Smedt).<br> \n",
    "\n",
    "The Jura data set was taken from: Goovaerts P., 1997. Geostatistics for Natural Resources Evaluation. Oxford University Press."
   ]
  },
  {
   "cell_type": "markdown",
   "metadata": {},
   "source": [
    "**Don't forget to save a copy on your Google drive before starting**\n",
    "\n",
    "You can also 'mount' your Google Drive in Google colab to directly access your Drive folders (e.g. to access data, previous notebooks etc.)\n",
    "\n",
    "Do not hesitate to contact us for questions or feel free to ask questions during the practical sessions."
   ]
  },
  {
   "cell_type": "markdown",
   "metadata": {},
   "source": [
    "# Geostatistics: Introduction to geostatistical data analysis with Python"
   ]
  },
  {
   "cell_type": "code",
   "execution_count": 1,
   "metadata": {},
   "outputs": [],
   "source": [
    "# Import required packages for setup\n",
    "# -------------------------------------------- #\n",
    "\n",
    "import sys\n",
    "import os"
   ]
  },
  {
   "cell_type": "code",
   "execution_count": 2,
   "metadata": {},
   "outputs": [],
   "source": [
    "# if you are not using Google Colab, change the path to the location of the repository\n",
    "sys.path.append(r'c:\\Users\\pdweerdt\\Documents\\Repos\\draft_E_I002454_Geostatistics')"
   ]
  },
  {
   "cell_type": "code",
   "execution_count": 3,
   "metadata": {},
   "outputs": [],
   "source": [
    "#  Clone the repository and add it to the path\n",
    "if 'google.colab' in sys.modules:\n",
    "    !git clone https://github.com/SENSE-UGent/E_I002454_Geostatistics.git\n",
    "    sys.path.append('/content/E_I002454_Geostatistics') #Default location in Google Colab after cloning\n",
    "else:\n",
    "    # if you are not using Google Colab, change the path to the location of the repository\n",
    "    sys.path.append(r'c:\\Users\\pdweerdt\\Documents\\Repos\\E_I002454_Geostatistics')\n",
    "\n",
    "# Import the setup function\n",
    "from Utils.setup import check_and_install_packages\n",
    "\n",
    "# Read the requirements.txt file\n",
    "if 'google.colab' in sys.modules:\n",
    "    requirements_path = '/content/E_I002454_Geostatistics/Utils/requirements.txt'\n",
    "else:\n",
    "    requirements_path = 'c:/Users/pdweerdt/Documents/Repos/E_I002454_Geostatistics/Utils/requirements.txt'\n",
    "\n",
    "with open(requirements_path) as f:\n",
    "    required_packages = f.read().splitlines()\n",
    "\n",
    "# Check and install packages\n",
    "check_and_install_packages(required_packages)"
   ]
  },
  {
   "cell_type": "markdown",
   "metadata": {},
   "source": [
    "#### Load Required libraries"
   ]
  },
  {
   "cell_type": "code",
   "execution_count": 4,
   "metadata": {},
   "outputs": [
    {
     "name": "stdout",
     "output_type": "stream",
     "text": [
      "GeostatsPy version: 0.0.72\n"
     ]
    }
   ],
   "source": [
    "import geostatspy\n",
    "import geostatspy.GSLIB as GSLIB                              # GSLIB utilities, visualization and wrapper\n",
    "import geostatspy.geostats as geostats                        # if this raises an error, you might have to check your numba isntallation   \n",
    "print('GeostatsPy version: ' + str(geostatspy.__version__))   # these notebooks were tested with GeostatsPy version: 0.0.72"
   ]
  },
  {
   "cell_type": "markdown",
   "metadata": {},
   "source": [
    "We will also need some standard packages. These should have been installed."
   ]
  },
  {
   "cell_type": "code",
   "execution_count": 5,
   "metadata": {},
   "outputs": [],
   "source": [
    "from tqdm import tqdm                                         # suppress the status bar\n",
    "from functools import partialmethod\n",
    "\n",
    "tqdm.__init__ = partialmethod(tqdm.__init__, disable=True)\n",
    "                                   \n",
    "import numpy as np                                            # ndarrays for gridded data\n",
    "                                       \n",
    "import pandas as pd                                           # DataFrames for tabular data\n",
    "\n",
    "import matplotlib.pyplot as plt                               # for plotting\n",
    "\n",
    "from scipy import stats                                       # summary statistics\n",
    "\n",
    "plt.rc('axes', axisbelow=True)                                # plot all grids below the plot elements\n",
    "\n",
    "ignore_warnings = True                                        # ignore warnings?\n",
    "if ignore_warnings == True:                                   \n",
    "    import warnings\n",
    "    warnings.filterwarnings('ignore')\n",
    "\n",
    "from IPython.utils import io                                  # mute output from simulation\n",
    "\n",
    "seed = 42                                                     # random number seed"
   ]
  },
  {
   "cell_type": "code",
   "execution_count": 6,
   "metadata": {},
   "outputs": [],
   "source": [
    "from ipywidgets import interactive                      # widgets and interactivity\n",
    "from ipywidgets import widgets                            \n",
    "from ipywidgets import Layout\n",
    "from ipywidgets import Label\n",
    "from ipywidgets import VBox, HBox"
   ]
  },
  {
   "cell_type": "markdown",
   "metadata": {},
   "source": [
    "### Optional libraries"
   ]
  },
  {
   "cell_type": "markdown",
   "metadata": {},
   "source": [
    "These are not required to run the given version of this practical exercise, but might be useful if you want to extend this notebook with more code."
   ]
  },
  {
   "cell_type": "code",
   "execution_count": 7,
   "metadata": {},
   "outputs": [],
   "source": [
    "#  import math library\n",
    "import math\n",
    "\n",
    "import cmath"
   ]
  },
  {
   "cell_type": "code",
   "execution_count": 8,
   "metadata": {},
   "outputs": [],
   "source": [
    "from scipy.stats import pearsonr                              # Pearson product moment correlation\n",
    "from scipy.stats import spearmanr                             # spearman rank correlation    \n",
    "                                   \n",
    "import seaborn as sns                                         # advanced plotting\n",
    "\n",
    "import matplotlib as mpl                                        \n",
    "\n",
    "from matplotlib.ticker import (MultipleLocator, AutoMinorLocator) # control of axes ticks\n",
    "from matplotlib.colors import ListedColormap \n",
    "import matplotlib.ticker as mtick \n",
    "import matplotlib.gridspec as gridspec"
   ]
  },
  {
   "cell_type": "markdown",
   "metadata": {},
   "source": [
    "### Set the Working Directory\n",
    "\n",
    "Do this to simplify subsequent reads and writes (avoid including the full address each time). "
   ]
  },
  {
   "cell_type": "markdown",
   "metadata": {},
   "source": [
    "##### For use in Google Colab\n",
    "\n",
    "Run the following cell if you automatically want to get the data from the repository and store it on your Google Colab drive"
   ]
  },
  {
   "cell_type": "code",
   "execution_count": 9,
   "metadata": {},
   "outputs": [
    {
     "ename": "FileNotFoundError",
     "evalue": "[WinError 2] The system cannot find the file specified: 'E_I002454_Geostatistics'",
     "output_type": "error",
     "traceback": [
      "\u001b[1;31m---------------------------------------------------------------------------\u001b[0m",
      "\u001b[1;31mFileNotFoundError\u001b[0m                         Traceback (most recent call last)",
      "Cell \u001b[1;32mIn[9], line 3\u001b[0m\n\u001b[0;32m      1\u001b[0m \u001b[38;5;66;03m# change the working directory to the cloned repository\u001b[39;00m\n\u001b[1;32m----> 3\u001b[0m \u001b[43mos\u001b[49m\u001b[38;5;241;43m.\u001b[39;49m\u001b[43mchdir\u001b[49m\u001b[43m(\u001b[49m\u001b[38;5;124;43m'\u001b[39;49m\u001b[38;5;124;43mE_I002454_Geostatistics\u001b[39;49m\u001b[38;5;124;43m'\u001b[39;49m\u001b[43m)\u001b[49m\n\u001b[0;32m      5\u001b[0m \u001b[38;5;66;03m# get the current directory and store it as a variable\u001b[39;00m\n\u001b[0;32m      7\u001b[0m cd \u001b[38;5;241m=\u001b[39m os\u001b[38;5;241m.\u001b[39mgetcwd()\n",
      "\u001b[1;31mFileNotFoundError\u001b[0m: [WinError 2] The system cannot find the file specified: 'E_I002454_Geostatistics'"
     ]
    }
   ],
   "source": [
    "# change the working directory to the cloned repository\n",
    "\n",
    "os.chdir('E_I002454_Geostatistics')\n",
    "\n",
    "# get the current directory and store it as a variable\n",
    "\n",
    "cd = os.getcwd()\n",
    "print(\"Current Working Directory is \" , cd)"
   ]
  },
  {
   "cell_type": "markdown",
   "metadata": {},
   "source": [
    "##### For local use\n",
    "\n",
    "Only run the following cell if you have the data locally stored."
   ]
  },
  {
   "cell_type": "code",
   "execution_count": 10,
   "metadata": {},
   "outputs": [
    {
     "name": "stdout",
     "output_type": "stream",
     "text": [
      "Current Working Directory is  C:\\Users\\pdweerdt\\OneDrive - UGent\\I002454 - Geostatistics\\AY 2024-2025\\Practicals\n"
     ]
    }
   ],
   "source": [
    "# set the working directory, place an r in front to address special characters\n",
    "os.chdir(r'C:\\\\Users\\\\pdweerdt\\\\OneDrive - UGent\\\\I002454 - Geostatistics\\\\AY 2024-2025\\\\Practicals')\n",
    "\n",
    "# get the current directory and store it as a variable\n",
    "\n",
    "cd = os.getcwd()\n",
    "print(\"Current Working Directory is \" , cd)"
   ]
  },
  {
   "cell_type": "markdown",
   "metadata": {},
   "source": [
    "### Loading Tabular & Gridded Data\n",
    "\n",
    "Here's the section to load our data file into a Pandas' DataFrame object."
   ]
  },
  {
   "cell_type": "markdown",
   "metadata": {},
   "source": [
    "Let's load and visualize a grid also.\n",
    "\n",
    "Check the datatype of your gridded data.\n",
    "\n",
    "In this case it is actually also a .dat file, so we can use the same function to import it. The .grid extension was given to indicate that it is gridded data."
   ]
  },
  {
   "cell_type": "code",
   "execution_count": 11,
   "metadata": {},
   "outputs": [],
   "source": [
    "# Here you can adjust the relative Path to the data folder\n",
    "\n",
    "data_path = cd + '/Hard_data' "
   ]
  },
  {
   "cell_type": "code",
   "execution_count": 12,
   "metadata": {},
   "outputs": [
    {
     "data": {
      "application/vnd.microsoft.datawrangler.viewer.v0+json": {
       "columns": [
        {
         "name": "index",
         "rawType": "int64",
         "type": "integer"
        },
        {
         "name": "Xloc",
         "rawType": "float64",
         "type": "float"
        },
        {
         "name": "Yloc",
         "rawType": "float64",
         "type": "float"
        },
        {
         "name": "Landuse",
         "rawType": "float64",
         "type": "float"
        },
        {
         "name": "Rock",
         "rawType": "float64",
         "type": "float"
        },
        {
         "name": "Cd",
         "rawType": "float64",
         "type": "float"
        },
        {
         "name": "Co",
         "rawType": "float64",
         "type": "float"
        },
        {
         "name": "Cr",
         "rawType": "float64",
         "type": "float"
        },
        {
         "name": "Cu",
         "rawType": "float64",
         "type": "float"
        },
        {
         "name": "Ni",
         "rawType": "float64",
         "type": "float"
        },
        {
         "name": "Pb",
         "rawType": "float64",
         "type": "float"
        },
        {
         "name": "Zn",
         "rawType": "float64",
         "type": "float"
        }
       ],
       "conversionMethod": "pd.DataFrame",
       "ref": "996487e0-9dcc-4dd0-9e73-492e089cc123",
       "rows": [
        [
         "0",
         "2.386",
         "3.077",
         "3.0",
         "3.0",
         "1.74",
         "9.32",
         "38.32",
         "25.72",
         "21.32",
         "77.36",
         "92.56"
        ],
        [
         "1",
         "2.544",
         "1.972",
         "2.0",
         "2.0",
         "1.335",
         "10.0",
         "40.2",
         "24.76",
         "29.72",
         "77.88",
         "73.56"
        ],
        [
         "2",
         "2.807",
         "3.347",
         "2.0",
         "3.0",
         "1.61",
         "10.6",
         "47.0",
         "8.88",
         "21.4",
         "30.8",
         "64.8"
        ],
        [
         "3",
         "4.308",
         "1.933",
         "3.0",
         "2.0",
         "2.15",
         "11.92",
         "43.52",
         "22.7",
         "29.72",
         "56.4",
         "90.0"
        ],
        [
         "4",
         "4.383",
         "1.081",
         "3.0",
         "5.0",
         "1.565",
         "16.32",
         "38.52",
         "34.32",
         "26.2",
         "66.4",
         "88.4"
        ]
       ],
       "shape": {
        "columns": 11,
        "rows": 5
       }
      },
      "text/html": [
       "<div>\n",
       "<style scoped>\n",
       "    .dataframe tbody tr th:only-of-type {\n",
       "        vertical-align: middle;\n",
       "    }\n",
       "\n",
       "    .dataframe tbody tr th {\n",
       "        vertical-align: top;\n",
       "    }\n",
       "\n",
       "    .dataframe thead th {\n",
       "        text-align: right;\n",
       "    }\n",
       "</style>\n",
       "<table border=\"1\" class=\"dataframe\">\n",
       "  <thead>\n",
       "    <tr style=\"text-align: right;\">\n",
       "      <th></th>\n",
       "      <th>Xloc</th>\n",
       "      <th>Yloc</th>\n",
       "      <th>Landuse</th>\n",
       "      <th>Rock</th>\n",
       "      <th>Cd</th>\n",
       "      <th>Co</th>\n",
       "      <th>Cr</th>\n",
       "      <th>Cu</th>\n",
       "      <th>Ni</th>\n",
       "      <th>Pb</th>\n",
       "      <th>Zn</th>\n",
       "    </tr>\n",
       "  </thead>\n",
       "  <tbody>\n",
       "    <tr>\n",
       "      <th>0</th>\n",
       "      <td>2.386</td>\n",
       "      <td>3.077</td>\n",
       "      <td>3.0</td>\n",
       "      <td>3.0</td>\n",
       "      <td>1.740</td>\n",
       "      <td>9.32</td>\n",
       "      <td>38.32</td>\n",
       "      <td>25.72</td>\n",
       "      <td>21.32</td>\n",
       "      <td>77.36</td>\n",
       "      <td>92.56</td>\n",
       "    </tr>\n",
       "    <tr>\n",
       "      <th>1</th>\n",
       "      <td>2.544</td>\n",
       "      <td>1.972</td>\n",
       "      <td>2.0</td>\n",
       "      <td>2.0</td>\n",
       "      <td>1.335</td>\n",
       "      <td>10.00</td>\n",
       "      <td>40.20</td>\n",
       "      <td>24.76</td>\n",
       "      <td>29.72</td>\n",
       "      <td>77.88</td>\n",
       "      <td>73.56</td>\n",
       "    </tr>\n",
       "    <tr>\n",
       "      <th>2</th>\n",
       "      <td>2.807</td>\n",
       "      <td>3.347</td>\n",
       "      <td>2.0</td>\n",
       "      <td>3.0</td>\n",
       "      <td>1.610</td>\n",
       "      <td>10.60</td>\n",
       "      <td>47.00</td>\n",
       "      <td>8.88</td>\n",
       "      <td>21.40</td>\n",
       "      <td>30.80</td>\n",
       "      <td>64.80</td>\n",
       "    </tr>\n",
       "    <tr>\n",
       "      <th>3</th>\n",
       "      <td>4.308</td>\n",
       "      <td>1.933</td>\n",
       "      <td>3.0</td>\n",
       "      <td>2.0</td>\n",
       "      <td>2.150</td>\n",
       "      <td>11.92</td>\n",
       "      <td>43.52</td>\n",
       "      <td>22.70</td>\n",
       "      <td>29.72</td>\n",
       "      <td>56.40</td>\n",
       "      <td>90.00</td>\n",
       "    </tr>\n",
       "    <tr>\n",
       "      <th>4</th>\n",
       "      <td>4.383</td>\n",
       "      <td>1.081</td>\n",
       "      <td>3.0</td>\n",
       "      <td>5.0</td>\n",
       "      <td>1.565</td>\n",
       "      <td>16.32</td>\n",
       "      <td>38.52</td>\n",
       "      <td>34.32</td>\n",
       "      <td>26.20</td>\n",
       "      <td>66.40</td>\n",
       "      <td>88.40</td>\n",
       "    </tr>\n",
       "  </tbody>\n",
       "</table>\n",
       "</div>"
      ],
      "text/plain": [
       "    Xloc   Yloc  Landuse  Rock     Cd     Co     Cr     Cu     Ni     Pb  \\\n",
       "0  2.386  3.077      3.0   3.0  1.740   9.32  38.32  25.72  21.32  77.36   \n",
       "1  2.544  1.972      2.0   2.0  1.335  10.00  40.20  24.76  29.72  77.88   \n",
       "2  2.807  3.347      2.0   3.0  1.610  10.60  47.00   8.88  21.40  30.80   \n",
       "3  4.308  1.933      3.0   2.0  2.150  11.92  43.52  22.70  29.72  56.40   \n",
       "4  4.383  1.081      3.0   5.0  1.565  16.32  38.52  34.32  26.20  66.40   \n",
       "\n",
       "      Zn  \n",
       "0  92.56  \n",
       "1  73.56  \n",
       "2  64.80  \n",
       "3  90.00  \n",
       "4  88.40  "
      ]
     },
     "execution_count": 12,
     "metadata": {},
     "output_type": "execute_result"
    }
   ],
   "source": [
    "file_name = '//prediction.dat'\n",
    "\n",
    "df = GSLIB.GSLIB2Dataframe(data_path + file_name) # read the data\n",
    "\n",
    "df.head()"
   ]
  },
  {
   "cell_type": "markdown",
   "metadata": {},
   "source": [
    "### Define feature of interest"
   ]
  },
  {
   "cell_type": "code",
   "execution_count": null,
   "metadata": {},
   "outputs": [],
   "source": [
    "feature = 'Cd'\n",
    "unit = 'ppm'\n",
    "dist_unit = 'km'"
   ]
  },
  {
   "cell_type": "code",
   "execution_count": 14,
   "metadata": {},
   "outputs": [],
   "source": [
    "#  define a colormap\n",
    "\n",
    "cmap = plt.cm.inferno                                         # color map inferno\n",
    "\n",
    "cmap_rainb = plt.cm.turbo # similar to what is shown on the slides"
   ]
  },
  {
   "cell_type": "markdown",
   "metadata": {},
   "source": [
    "### Experimental Variograms\n",
    "\n",
    "We can use the location maps to help determine good variogram calculation parameters. For example:\n",
    "\n",
    "```p\n",
    "tmin = -9999.; tmax = 9999.; \n",
    "lag_dist = 100.0; lag_tol = 50.0; nlag = 7; bandh = 9999.9; azi = azi; atol = 22.5\n",
    "```\n",
    "* **tmin**, **tmax** are trimming limits - set to have no impact, no need to filter the data\n",
    "* **lag_dist**, **lag_tol** are the lag distance, lag tolerance - set based on the common data spacing and tolerance as 50% of lag distance to avoid overlapping or missing pairs\n",
    "* **nlag** is number of lags -\n",
    "* **bandh** is the horizontal band width - here set to have no effect\n",
    "* **azi** is the azimuth -  it has not effect since we set atol, the azimuth tolerance, to 90.0 -> omnidirectional variogram\n",
    "\n",
    "#### Dashboard for Interactive Variogram Calculation\n",
    "\n",
    "Below we make a dashboard with the ipywidgets and matplotlib Python packages for calculating experimental variograms.\n",
    "\n",
    "We can set the range of values that we want to explore per variogram parameter."
   ]
  },
  {
   "cell_type": "code",
   "execution_count": 15,
   "metadata": {},
   "outputs": [],
   "source": [
    "# interactive calculation of the experimental variogram\n",
    "l = widgets.Text(value='                              Variogram Calculation Interactive Demonstration, Michael Pyrcz, Associate Professor, The University of Texas at Austin',layout=Layout(width='950px', height='30px'))\n",
    "\n",
    "# set lag\n",
    "lag = widgets.FloatSlider(\n",
    "                        min = 0.1, max = 1, value = 0.1, step = 0.1, # optionally adjust the min, max and step size\n",
    "                        description = 'lag',orientation='vertical',layout=Layout(width='90px', height='200px'),\n",
    "                        continuous_update=False\n",
    "                        )\n",
    "lag.style.handle_color = 'gray'\n",
    "\n",
    "# set lag tolerance\n",
    "lag_tol = widgets.FloatSlider(\n",
    "                            min = 0.01, max = 1, value = 0.01, step = 0.01, # optionally adjust the min, max and step size\n",
    "                            description = 'lag tolerance',orientation='vertical',layout=Layout(width='90px', height='200px'),\n",
    "                            continuous_update=False\n",
    "                            )\n",
    "lag_tol.style.handle_color = 'gray'\n",
    "\n",
    "# set number of lags\n",
    "nlag = widgets.IntSlider(\n",
    "                        min = 1, max = 100, value = 1, step = 1, # optionally adjust the min, max and step size\n",
    "                        description = 'number of lags',orientation='vertical',layout=Layout(width='90px', height='200px'),\n",
    "                        continuous_update=False\n",
    "                        )\n",
    "nlag.style.handle_color = 'gray'\n",
    "\n",
    "# set azimuth\n",
    "azi = widgets.FloatSlider(\n",
    "                        min = 0, max = 360, value = 0, step = 5, # optionally adjust the min, max and step size\n",
    "                        description = 'azimuth',orientation='vertical',layout=Layout(width='90px', height='200px'),\n",
    "                        continuous_update=False\n",
    "                        )\n",
    "azi.style.handle_color = 'gray'\n",
    "\n",
    "# set azimuth tolerance\n",
    "azi_tol = widgets.FloatSlider(\n",
    "                            min = 10, max = 90, value = 90, step = 5, # optionally adjust the min, max and step size\n",
    "                            description = 'azimuth tolerance',orientation='vertical',layout=Layout(width='120px', height='200px'),\n",
    "                            continuous_update=False\n",
    "                            )\n",
    "azi_tol.style.handle_color = 'gray'\n",
    "\n",
    "# set bandwidth\n",
    "bandwidth = widgets.FloatSlider(\n",
    "                                min = 0.1, max = 1000, value = 1000, step = 0.5, # optionally adjust the min, max and step size\n",
    "                                description = 'bandwidth',orientation='vertical',layout=Layout(width='90px', height='200px'),\n",
    "                                continuous_update=False\n",
    "                                )\n",
    "azi_tol.style.handle_color = 'gray'\n",
    "\n",
    "\n",
    "ui1 = widgets.HBox([lag,lag_tol,nlag,azi,azi_tol,bandwidth],) # basic widget formatting    \n",
    "ui = widgets.VBox([l,ui1],)"
   ]
  },
  {
   "cell_type": "code",
   "execution_count": null,
   "metadata": {},
   "outputs": [],
   "source": [
    "# function to take parameters, calculate variogram and plot\n",
    "\n",
    "def f_make(lag,lag_tol,nlag,azi,azi_tol,bandwidth):     \n",
    "    global lags,gammas,npps # define global variables, stored while tweaking the parameters\n",
    "    tmin = -9999.9; tmax = 9999.9\n",
    "    lags, gammas, npps = geostats.gamv(df,\"Xloc\",\"Yloc\",feature,tmin,tmax,lag,lag_tol,nlag,azi,azi_tol,bandwidth, isill=None)\n",
    "    \n",
    "    # plot experimental variogram\n",
    "    scatter = plt.scatter(lags,gammas,color = 'darkorange',edgecolor='black',s = npps*0.05,label = 'Azimuth ' +str(azi))\n",
    "\n",
    "    plt.xlabel(r'Lag Distance $\\bfh$ (' + dist_unit + ')')\n",
    "    plt.ylabel(r'$\\gamma \\bf(h)$ (' + unit + '$^2$)')\n",
    "    \n",
    "    if azi_tol < 90.0:\n",
    "        plt.title('Directional Variogram - Azi ' + str(azi))\n",
    "    else:\n",
    "        plt.title('Omnidirectional Variogram ')\n",
    "    plt.xlim([0,5]); plt.ylim([0,1.8])\n",
    "\n",
    "    plt.grid(True)\n",
    "    \n",
    "    legend = plt.legend(*scatter.legend_elements(\"sizes\", num=6),loc='upper left')\n",
    "    legend.set_title('Number of Pairs/20')\n",
    "    \n",
    "    plt.subplots_adjust(left=0.0, bottom=0.0, right=1.1, top=0.7, wspace=0.3, hspace=0.3)\n",
    "    plt.show()"
   ]
  },
  {
   "cell_type": "code",
   "execution_count": 17,
   "metadata": {},
   "outputs": [],
   "source": [
    "# connect the function to make the samples and plot to the widgets    \n",
    "interactive_plot = widgets.interactive_output(f_make, {'lag':lag,'lag_tol':lag_tol,'nlag':nlag,'azi':azi,'azi_tol':azi_tol,'bandwidth':bandwidth})\n",
    "interactive_plot.clear_output(wait = True)               # reduce flickering by delaying plot updating"
   ]
  },
  {
   "cell_type": "code",
   "execution_count": 18,
   "metadata": {},
   "outputs": [
    {
     "data": {
      "application/vnd.jupyter.widget-view+json": {
       "model_id": "48035e2731c8402f8fe60fe225bad41f",
       "version_major": 2,
       "version_minor": 0
      },
      "text/plain": [
       "VBox(children=(Text(value='                              Variogram Calculation Interactive Demonstration, Mich…"
      ]
     },
     "metadata": {},
     "output_type": "display_data"
    },
    {
     "data": {
      "application/vnd.jupyter.widget-view+json": {
       "model_id": "955f3aac7bdc4bb48a52c874e7020303",
       "version_major": 2,
       "version_minor": 0
      },
      "text/plain": [
       "Output()"
      ]
     },
     "metadata": {},
     "output_type": "display_data"
    }
   ],
   "source": [
    "# display the interactive plot\n",
    "display(ui, interactive_plot)                             # display the interactive plot"
   ]
  },
  {
   "cell_type": "markdown",
   "metadata": {},
   "source": [
    "### Variogram modelling"
   ]
  },
  {
   "cell_type": "markdown",
   "metadata": {},
   "source": [
    "\n",
    "\n",
    "Fit a positive definite variogram model \n",
    "* **nug**: nugget effect\n",
    "\n",
    "* **c1 / c2**: contributions of the sill - note, **c1** is set at 1.0 - **nug** - **c2**\n",
    "\n",
    "* **hmaj1 / hmaj2**: range in the major direction\n",
    "\n",
    "* **hmin1 / hmin2**: range in the minor direction"
   ]
  },
  {
   "cell_type": "markdown",
   "metadata": {},
   "source": [
    "#### Dashboard for Interactive Variogram Calculation"
   ]
  },
  {
   "cell_type": "code",
   "execution_count": null,
   "metadata": {},
   "outputs": [],
   "source": [
    "# interactive calculation of the sample set (control of source parametric distribution and number of samples)\n",
    "l = widgets.Text(value='               Variogram Modeling, Michael Pyrcz, Professor, The University of Texas at Austin',layout=Layout(width='950px', height='30px'))\n",
    "\n",
    "# set the nugget\n",
    "nug = widgets.FloatSlider(min = 0.01, max = 1.0, value = 0.01, step = 0.01,\n",
    "                          description = r'c_0',orientation='vertical',\n",
    "                          layout=Layout(width='60px', height='200px')\n",
    "                          )\n",
    "nug.style.handle_color = 'gray'\n",
    "\n",
    "it1 = widgets.Dropdown(options=['Spherical', 'Exponential', 'Gaussian'],value='Exponential',\n",
    "    description=r'$Type_1$:',disabled=False,layout=Layout(width='200px', height='30px'))\n",
    "\n",
    "# set the sill contribution\n",
    "c1 = widgets.FloatSlider(min=0.001, max = 1.0, value = 0.001, step = 0.01,\n",
    "                         description = r'c_1',orientation='vertical',\n",
    "                         layout=Layout(width='60px', height='200px')\n",
    "                         )\n",
    "c1.style.handle_color = 'gray'\n",
    "\n",
    "# set the range \n",
    "hmaj1 = widgets.FloatSlider(min=0.01, max = 6, value = 0.01, step = 0.01,\n",
    "                            description = r'a_{1,maj}',orientation='vertical',\n",
    "                            layout=Layout(width='60px', height='200px'))\n",
    "hmaj1.style.handle_color = 'black'\n",
    "\n",
    "# set the range\n",
    "hmin1 = widgets.FloatSlider(min = 0, max = 6, value = 0.01, step = 0.01, description = r'a_{1,min}',orientation='vertical',layout=Layout(width='60px', height='200px'))\n",
    "hmin1.style.handle_color = 'red'\n",
    "\n",
    "ui9 = widgets.HBox([nug,it1,c1,hmaj1,hmin1],)                   # basic widget formatting   \n",
    "ui10 = widgets.VBox([l,ui9],)\n"
   ]
  },
  {
   "cell_type": "code",
   "execution_count": null,
   "metadata": {},
   "outputs": [],
   "source": [
    "# functions to take parameters, make sample and plot to the widgets\n",
    "\n",
    "def convert_type(it):\n",
    "    if it == 'Spherical':\n",
    "        return 1\n",
    "    elif it == 'Exponential':\n",
    "        return 2\n",
    "    else: \n",
    "        return 3\n",
    "\n",
    "def f_make_omni_mod(nug,it1,c1, hmaj1,hmin1):                       # function to take parameters, make sample and plot\n",
    "    azimuth = azi.value\n",
    "    it1 = convert_type(it1)\n",
    "    nst = 1\n",
    "    \n",
    "    vario = GSLIB.make_variogram(nug,nst,it1,c1,0.0,hmaj1,hmin1) # make model object\n",
    "    nlag = 100000; xlag = 0.0001;           # lags for model plotting (not the same as experimental variogram lags!)\n",
    "    index_maj,h_maj,gam_maj,cov_maj,ro_maj = geostats.vmodel(nlag,xlag,0.0,vario)   # project the model in the major azimuth\n",
    "\n",
    "    # plot experimental variogram\n",
    "    plt.scatter(lags,gammas,color = 'black',s = npps*0.03,label = 'Major Azimuth ' +str(azimuth), alpha = 0.8,zorder=10)\n",
    "    plt.plot(h_maj,gam_maj,color = 'black',lw=3,zorder=10)\n",
    "\n",
    "    plt.xlabel(r'Lag Distance $\\bfh$ (' + dist_unit + ')')\n",
    "    plt.ylabel(r'$\\gamma \\bf(h)$ (' + unit + '$^2$)')\n",
    "    \n",
    "    if azi_tol.value < 90.0:\n",
    "        plt.title('Major Directional ' + feature + ' Variogram - Azi. ' + str(azimuth))\n",
    "    else: \n",
    "        plt.title('Omni Directional ' + feature + ' Variogram ')\n",
    "\n",
    "    plt.xlim([0,5]); plt.ylim([0, 1.8])\n",
    "    plt.legend(loc=\"upper left\")\n",
    "    plt.grid(True)\n",
    "\n",
    "    plt.subplots_adjust(left=0.0, bottom=0.0, right=1.1, top=0.7, wspace=0.3, hspace=0.3)\n",
    "    plt.show()"
   ]
  },
  {
   "cell_type": "code",
   "execution_count": 21,
   "metadata": {},
   "outputs": [],
   "source": [
    "# connect the function to make the samples and plot to the widgets    \n",
    "interactive_plot2 = widgets.interactive_output(f_make_omni_mod, {'nug':nug, 'it1':it1, 'c1':c1, 'hmaj1':hmaj1, 'hmin1':hmin1})\n",
    "interactive_plot2.clear_output(wait = True)               # reduce flickering by delaying plot updating  "
   ]
  },
  {
   "cell_type": "code",
   "execution_count": 22,
   "metadata": {},
   "outputs": [
    {
     "data": {
      "application/vnd.jupyter.widget-view+json": {
       "model_id": "cf279d7291574540b3dbada4619cbcdf",
       "version_major": 2,
       "version_minor": 0
      },
      "text/plain": [
       "VBox(children=(Text(value='               Variogram Modeling, Michael Pyrcz, Professor, The University of Texa…"
      ]
     },
     "metadata": {},
     "output_type": "display_data"
    },
    {
     "data": {
      "application/vnd.jupyter.widget-view+json": {
       "model_id": "9a781018aa36434b8544a17e75071ccc",
       "version_major": 2,
       "version_minor": 0
      },
      "text/plain": [
       "Output()"
      ]
     },
     "metadata": {},
     "output_type": "display_data"
    }
   ],
   "source": [
    "display(ui10, interactive_plot2)                           # display the interactive plot"
   ]
  },
  {
   "cell_type": "markdown",
   "metadata": {},
   "source": [
    "If you change parameters for the experimental variogramm"
   ]
  }
 ],
 "metadata": {
  "kernelspec": {
   "display_name": "geostatspy",
   "language": "python",
   "name": "python3"
  },
  "language_info": {
   "codemirror_mode": {
    "name": "ipython",
    "version": 3
   },
   "file_extension": ".py",
   "mimetype": "text/x-python",
   "name": "python",
   "nbconvert_exporter": "python",
   "pygments_lexer": "ipython3",
   "version": "3.8.15"
  }
 },
 "nbformat": 4,
 "nbformat_minor": 2
}
